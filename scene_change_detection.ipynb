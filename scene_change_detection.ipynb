{
 "cells": [
  {
   "cell_type": "code",
   "execution_count": 43,
   "metadata": {
    "scrolled": true
   },
   "outputs": [
    {
     "name": "stdout",
     "output_type": "stream",
     "text": [
      "Requirement already up-to-date: scenedetect[opencv-headless] in c:\\users\\james\\anaconda3\\lib\\site-packages (0.6.0.3)\n",
      "Requirement already satisfied, skipping upgrade: appdirs in c:\\users\\james\\anaconda3\\lib\\site-packages (from scenedetect[opencv-headless]) (1.4.4)\n",
      "Requirement already satisfied, skipping upgrade: numpy in c:\\users\\james\\anaconda3\\lib\\site-packages (from scenedetect[opencv-headless]) (1.18.1)\n",
      "Requirement already satisfied, skipping upgrade: Click in c:\\users\\james\\anaconda3\\lib\\site-packages (from scenedetect[opencv-headless]) (7.0)\n",
      "Requirement already satisfied, skipping upgrade: tqdm in c:\\users\\james\\anaconda3\\lib\\site-packages (from scenedetect[opencv-headless]) (4.42.1)\n",
      "Requirement already satisfied, skipping upgrade: opencv-python-headless; extra == \"opencv-headless\" in c:\\users\\james\\anaconda3\\lib\\site-packages (from scenedetect[opencv-headless]) (4.6.0.66)\n",
      "Note: you may need to restart the kernel to use updated packages.\n"
     ]
    }
   ],
   "source": [
    "%pip install --upgrade scenedetect[opencv-headless]  "
   ]
  },
  {
   "cell_type": "code",
   "execution_count": 44,
   "metadata": {},
   "outputs": [
    {
     "name": "stdout",
     "output_type": "stream",
     "text": [
      "Requirement already satisfied: ipyfilechooser in c:\\users\\james\\anaconda3\\lib\\site-packages (0.6.0)\n",
      "Requirement already satisfied: ipywidgets in c:\\users\\james\\anaconda3\\lib\\site-packages (from ipyfilechooser) (7.5.1)\n",
      "Requirement already satisfied: traitlets>=4.3.1 in c:\\users\\james\\anaconda3\\lib\\site-packages (from ipywidgets->ipyfilechooser) (4.3.3)\n",
      "Requirement already satisfied: nbformat>=4.2.0 in c:\\users\\james\\anaconda3\\lib\\site-packages (from ipywidgets->ipyfilechooser) (5.0.4)\n",
      "Requirement already satisfied: ipykernel>=4.5.1 in c:\\users\\james\\anaconda3\\lib\\site-packages (from ipywidgets->ipyfilechooser) (5.1.4)\n",
      "Requirement already satisfied: ipython>=4.0.0; python_version >= \"3.3\" in c:\\users\\james\\anaconda3\\lib\\site-packages (from ipywidgets->ipyfilechooser) (7.12.0)\n",
      "Requirement already satisfied: widgetsnbextension~=3.5.0 in c:\\users\\james\\anaconda3\\lib\\site-packages (from ipywidgets->ipyfilechooser) (3.5.1)\n",
      "Requirement already satisfied: six in c:\\users\\james\\anaconda3\\lib\\site-packages (from traitlets>=4.3.1->ipywidgets->ipyfilechooser) (1.14.0)\n",
      "Requirement already satisfied: ipython-genutils in c:\\users\\james\\anaconda3\\lib\\site-packages (from traitlets>=4.3.1->ipywidgets->ipyfilechooser) (0.2.0)\n",
      "Requirement already satisfied: decorator in c:\\users\\james\\anaconda3\\lib\\site-packages (from traitlets>=4.3.1->ipywidgets->ipyfilechooser) (4.4.1)\n",
      "Requirement already satisfied: jupyter-core in c:\\users\\james\\anaconda3\\lib\\site-packages (from nbformat>=4.2.0->ipywidgets->ipyfilechooser) (4.6.1)\n",
      "Requirement already satisfied: jsonschema!=2.5.0,>=2.4 in c:\\users\\james\\anaconda3\\lib\\site-packages (from nbformat>=4.2.0->ipywidgets->ipyfilechooser) (3.2.0)\n",
      "Requirement already satisfied: jupyter-client in c:\\users\\james\\anaconda3\\lib\\site-packages (from ipykernel>=4.5.1->ipywidgets->ipyfilechooser) (5.3.4)\n",
      "Requirement already satisfied: tornado>=4.2 in c:\\users\\james\\anaconda3\\lib\\site-packages (from ipykernel>=4.5.1->ipywidgets->ipyfilechooser) (6.0.3)\n",
      "Requirement already satisfied: colorama; sys_platform == \"win32\" in c:\\users\\james\\anaconda3\\lib\\site-packages (from ipython>=4.0.0; python_version >= \"3.3\"->ipywidgets->ipyfilechooser) (0.4.3)\n",
      "Requirement already satisfied: prompt-toolkit!=3.0.0,!=3.0.1,<3.1.0,>=2.0.0 in c:\\users\\james\\anaconda3\\lib\\site-packages (from ipython>=4.0.0; python_version >= \"3.3\"->ipywidgets->ipyfilechooser) (3.0.3)\n",
      "Requirement already satisfied: pickleshare in c:\\users\\james\\anaconda3\\lib\\site-packages (from ipython>=4.0.0; python_version >= \"3.3\"->ipywidgets->ipyfilechooser) (0.7.5)\n",
      "Requirement already satisfied: jedi>=0.10 in c:\\users\\james\\anaconda3\\lib\\site-packages (from ipython>=4.0.0; python_version >= \"3.3\"->ipywidgets->ipyfilechooser) (0.14.1)\n",
      "Requirement already satisfied: setuptools>=18.5 in c:\\users\\james\\anaconda3\\lib\\site-packages (from ipython>=4.0.0; python_version >= \"3.3\"->ipywidgets->ipyfilechooser) (45.2.0.post20200210)\n",
      "Requirement already satisfied: pygments in c:\\users\\james\\anaconda3\\lib\\site-packages (from ipython>=4.0.0; python_version >= \"3.3\"->ipywidgets->ipyfilechooser) (2.5.2)\n",
      "Requirement already satisfied: backcall in c:\\users\\james\\anaconda3\\lib\\site-packages (from ipython>=4.0.0; python_version >= \"3.3\"->ipywidgets->ipyfilechooser) (0.1.0)\n",
      "Requirement already satisfied: notebook>=4.4.1 in c:\\users\\james\\anaconda3\\lib\\site-packages (from widgetsnbextension~=3.5.0->ipywidgets->ipyfilechooser) (6.0.3)\n",
      "Requirement already satisfied: pywin32>=1.0; sys_platform == \"win32\" in c:\\users\\james\\anaconda3\\lib\\site-packages (from jupyter-core->nbformat>=4.2.0->ipywidgets->ipyfilechooser) (227)\n",
      "Requirement already satisfied: importlib-metadata; python_version < \"3.8\" in c:\\users\\james\\anaconda3\\lib\\site-packages (from jsonschema!=2.5.0,>=2.4->nbformat>=4.2.0->ipywidgets->ipyfilechooser) (1.5.0)\n",
      "Requirement already satisfied: attrs>=17.4.0 in c:\\users\\james\\anaconda3\\lib\\site-packages (from jsonschema!=2.5.0,>=2.4->nbformat>=4.2.0->ipywidgets->ipyfilechooser) (19.3.0)\n",
      "Requirement already satisfied: pyrsistent>=0.14.0 in c:\\users\\james\\anaconda3\\lib\\site-packages (from jsonschema!=2.5.0,>=2.4->nbformat>=4.2.0->ipywidgets->ipyfilechooser) (0.15.7)\n",
      "Requirement already satisfied: pyzmq>=13 in c:\\users\\james\\anaconda3\\lib\\site-packages (from jupyter-client->ipykernel>=4.5.1->ipywidgets->ipyfilechooser) (18.1.1)\n",
      "Requirement already satisfied: python-dateutil>=2.1 in c:\\users\\james\\anaconda3\\lib\\site-packages (from jupyter-client->ipykernel>=4.5.1->ipywidgets->ipyfilechooser) (2.8.1)\n",
      "Requirement already satisfied: wcwidth in c:\\users\\james\\anaconda3\\lib\\site-packages (from prompt-toolkit!=3.0.0,!=3.0.1,<3.1.0,>=2.0.0->ipython>=4.0.0; python_version >= \"3.3\"->ipywidgets->ipyfilechooser) (0.1.8)\n",
      "Requirement already satisfied: parso>=0.5.0 in c:\\users\\james\\anaconda3\\lib\\site-packages (from jedi>=0.10->ipython>=4.0.0; python_version >= \"3.3\"->ipywidgets->ipyfilechooser) (0.5.2)\n",
      "Requirement already satisfied: terminado>=0.8.1 in c:\\users\\james\\anaconda3\\lib\\site-packages (from notebook>=4.4.1->widgetsnbextension~=3.5.0->ipywidgets->ipyfilechooser) (0.8.3)\n",
      "Requirement already satisfied: nbconvert in c:\\users\\james\\anaconda3\\lib\\site-packages (from notebook>=4.4.1->widgetsnbextension~=3.5.0->ipywidgets->ipyfilechooser) (5.6.1)\n",
      "Requirement already satisfied: prometheus-client in c:\\users\\james\\anaconda3\\lib\\site-packages (from notebook>=4.4.1->widgetsnbextension~=3.5.0->ipywidgets->ipyfilechooser) (0.7.1)\n",
      "Requirement already satisfied: jinja2 in c:\\users\\james\\anaconda3\\lib\\site-packages (from notebook>=4.4.1->widgetsnbextension~=3.5.0->ipywidgets->ipyfilechooser) (2.11.1)\n",
      "Requirement already satisfied: Send2Trash in c:\\users\\james\\anaconda3\\lib\\site-packages (from notebook>=4.4.1->widgetsnbextension~=3.5.0->ipywidgets->ipyfilechooser) (1.5.0)\n",
      "Requirement already satisfied: zipp>=0.5 in c:\\users\\james\\anaconda3\\lib\\site-packages (from importlib-metadata; python_version < \"3.8\"->jsonschema!=2.5.0,>=2.4->nbformat>=4.2.0->ipywidgets->ipyfilechooser) (2.2.0)\n",
      "Requirement already satisfied: entrypoints>=0.2.2 in c:\\users\\james\\anaconda3\\lib\\site-packages (from nbconvert->notebook>=4.4.1->widgetsnbextension~=3.5.0->ipywidgets->ipyfilechooser) (0.3)\n",
      "Requirement already satisfied: pandocfilters>=1.4.1 in c:\\users\\james\\anaconda3\\lib\\site-packages (from nbconvert->notebook>=4.4.1->widgetsnbextension~=3.5.0->ipywidgets->ipyfilechooser) (1.4.2)\n",
      "Requirement already satisfied: testpath in c:\\users\\james\\anaconda3\\lib\\site-packages (from nbconvert->notebook>=4.4.1->widgetsnbextension~=3.5.0->ipywidgets->ipyfilechooser) (0.4.4)\n",
      "Requirement already satisfied: bleach in c:\\users\\james\\anaconda3\\lib\\site-packages (from nbconvert->notebook>=4.4.1->widgetsnbextension~=3.5.0->ipywidgets->ipyfilechooser) (3.1.0)\n",
      "Requirement already satisfied: mistune<2,>=0.8.1 in c:\\users\\james\\anaconda3\\lib\\site-packages (from nbconvert->notebook>=4.4.1->widgetsnbextension~=3.5.0->ipywidgets->ipyfilechooser) (0.8.4)\n",
      "Requirement already satisfied: defusedxml in c:\\users\\james\\anaconda3\\lib\\site-packages (from nbconvert->notebook>=4.4.1->widgetsnbextension~=3.5.0->ipywidgets->ipyfilechooser) (0.6.0)\n",
      "Requirement already satisfied: MarkupSafe>=0.23 in c:\\users\\james\\anaconda3\\lib\\site-packages (from jinja2->notebook>=4.4.1->widgetsnbextension~=3.5.0->ipywidgets->ipyfilechooser) (1.1.1)\n",
      "Requirement already satisfied: webencodings in c:\\users\\james\\anaconda3\\lib\\site-packages (from bleach->nbconvert->notebook>=4.4.1->widgetsnbextension~=3.5.0->ipywidgets->ipyfilechooser) (0.5.1)\n",
      "Note: you may need to restart the kernel to use updated packages.\n"
     ]
    }
   ],
   "source": [
    "%pip install ipyfilechooser"
   ]
  },
  {
   "cell_type": "code",
   "execution_count": 45,
   "metadata": {},
   "outputs": [],
   "source": [
    "from scenedetect import SceneManager, open_video, ContentDetector"
   ]
  },
  {
   "cell_type": "code",
   "execution_count": 46,
   "metadata": {},
   "outputs": [],
   "source": [
    "from ipyfilechooser import FileChooser"
   ]
  },
  {
   "cell_type": "code",
   "execution_count": 51,
   "metadata": {},
   "outputs": [],
   "source": [
    "# taken from https://scenedetect.com/projects/Manual/en/latest/api.html#example\n",
    "def find_scenes(video_path, threshold=27.0):\n",
    "    video = open_video(video_path)\n",
    "    scene_manager = SceneManager()\n",
    "    scene_manager.add_detector(\n",
    "        ContentDetector(threshold=threshold))\n",
    "    # Detect all scenes in video from current position to end.\n",
    "    scene_manager.detect_scenes(video, show_progress=True)\n",
    "    # `get_scene_list` returns a list of start/end timecode pairs\n",
    "    # for each scene that was found.\n",
    "    return scene_manager.get_scene_list()"
   ]
  },
  {
   "cell_type": "code",
   "execution_count": 48,
   "metadata": {},
   "outputs": [
    {
     "data": {
      "application/vnd.jupyter.widget-view+json": {
       "model_id": "7e89bd9bec65458f8fa3fee3161d25d8",
       "version_major": 2,
       "version_minor": 0
      },
      "text/plain": [
       "FileChooser(path='C:\\Users\\james\\Desktop\\projects\\beat_detection\\python', filename='', title='', show_hidden=F…"
      ]
     },
     "metadata": {},
     "output_type": "display_data"
    }
   ],
   "source": [
    "# pick file to operate on\n",
    "fc = FileChooser('.')\n",
    "display(fc)"
   ]
  },
  {
   "cell_type": "code",
   "execution_count": 53,
   "metadata": {
    "scrolled": true
   },
   "outputs": [
    {
     "name": "stderr",
     "output_type": "stream",
     "text": [
      " 11%|████████▏                                                                   | 35/327 [00:00<00:00, 343.20frames/s]"
     ]
    },
    {
     "name": "stdout",
     "output_type": "stream",
     "text": [
      "Analyzing C:\\Users\\james\\Downloads\\brand.mp4\n"
     ]
    },
    {
     "name": "stderr",
     "output_type": "stream",
     "text": [
      "100%|███████████████████████████████████████████████████████████████████████████| 327/327 [00:00<00:00, 416.87frames/s]\n"
     ]
    },
    {
     "name": "stdout",
     "output_type": "stream",
     "text": [
      "done\n"
     ]
    }
   ],
   "source": [
    "print(f\"Analyzing {fc.selected}\")\n",
    "scenes = find_scenes(fc.selected)\n",
    "print(\"done\")"
   ]
  },
  {
   "cell_type": "code",
   "execution_count": 55,
   "metadata": {
    "scrolled": true
   },
   "outputs": [
    {
     "data": {
      "text/plain": [
       "[(00:00:00.000 [frame=0, fps=30.000], 00:00:03.767 [frame=113, fps=30.000]),\n",
       " (00:00:03.767 [frame=113, fps=30.000], 00:00:05.467 [frame=164, fps=30.000]),\n",
       " (00:00:05.467 [frame=164, fps=30.000], 00:00:07.267 [frame=218, fps=30.000]),\n",
       " (00:00:07.267 [frame=218, fps=30.000], 00:00:08.067 [frame=242, fps=30.000]),\n",
       " (00:00:08.067 [frame=242, fps=30.000], 00:00:10.900 [frame=327, fps=30.000])]"
      ]
     },
     "execution_count": 55,
     "metadata": {},
     "output_type": "execute_result"
    }
   ],
   "source": [
    "scenes"
   ]
  },
  {
   "cell_type": "code",
   "execution_count": 56,
   "metadata": {},
   "outputs": [
    {
     "name": "stdout",
     "output_type": "stream",
     "text": [
      "scene change times:\n",
      "3.8 seconds\n",
      "5.5 seconds\n",
      "7.3 seconds\n",
      "8.1 seconds\n"
     ]
    }
   ],
   "source": [
    "times = [round(s[1].get_seconds(), 1) for s in scenes[:-1]] # skip last scene change which is end of video\n",
    "print(\"scene change times:\")\n",
    "print('\\n'.join(map(lambda t: f\"{t} seconds\", times)))"
   ]
  }
 ],
 "metadata": {
  "kernelspec": {
   "display_name": "Python 3",
   "language": "python",
   "name": "python3"
  },
  "language_info": {
   "codemirror_mode": {
    "name": "ipython",
    "version": 3
   },
   "file_extension": ".py",
   "mimetype": "text/x-python",
   "name": "python",
   "nbconvert_exporter": "python",
   "pygments_lexer": "ipython3",
   "version": "3.7.6"
  }
 },
 "nbformat": 4,
 "nbformat_minor": 4
}
